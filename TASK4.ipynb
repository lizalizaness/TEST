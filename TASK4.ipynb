{
 "cells": [
  {
   "cell_type": "code",
   "execution_count": 1,
   "id": "51d38216-bac2-408e-9f76-cd9a039f8a33",
   "metadata": {
    "tags": []
   },
   "outputs": [
    {
     "name": "stdout",
     "output_type": "stream",
     "text": [
      "POSTGRESQL_USER=reader\n",
      "POSTGRESQL_PASSWORD=Miba2021\n"
     ]
    }
   ],
   "source": [
    "import os\n",
    "import json\n",
    "import psycopg2\n",
    "from psycopg2.extras import DictCursor\n",
    "POSTGRESQL_HOST = '10.129.0.25'\n",
    "\n",
    "!env | grep POST\n",
    "conn = psycopg2.connect(\n",
    "    dbname='demo', \n",
    "    user=os.environ['POSTGRESQL_USER'],\n",
    "    password=os.environ['POSTGRESQL_PASSWORD'], \n",
    "    host=POSTGRESQL_HOST\n",
    ")\n",
    "cur = conn.cursor()"
   ]
  },
  {
   "cell_type": "code",
   "execution_count": 2,
   "id": "a4fe998b-4dcf-435f-b822-534510aa51d0",
   "metadata": {
    "tags": []
   },
   "outputs": [
    {
     "name": "stdout",
     "output_type": "stream",
     "text": [
      "Requirement already satisfied: ipython-sql in /opt/conda/lib/python3.10/site-packages (0.5.0)\n",
      "Requirement already satisfied: sqlparse in /opt/conda/lib/python3.10/site-packages (from ipython-sql) (0.4.4)\n",
      "Requirement already satisfied: six in /opt/conda/lib/python3.10/site-packages (from ipython-sql) (1.16.0)\n",
      "Requirement already satisfied: prettytable in /opt/conda/lib/python3.10/site-packages (from ipython-sql) (3.7.0)\n",
      "Requirement already satisfied: ipython in /opt/conda/lib/python3.10/site-packages (from ipython-sql) (8.11.0)\n",
      "Requirement already satisfied: ipython-genutils in /opt/conda/lib/python3.10/site-packages (from ipython-sql) (0.2.0)\n",
      "Requirement already satisfied: sqlalchemy>=2.0 in /opt/conda/lib/python3.10/site-packages (from ipython-sql) (2.0.7)\n",
      "Requirement already satisfied: greenlet!=0.4.17 in /opt/conda/lib/python3.10/site-packages (from sqlalchemy>=2.0->ipython-sql) (2.0.2)\n",
      "Requirement already satisfied: typing-extensions>=4.2.0 in /opt/conda/lib/python3.10/site-packages (from sqlalchemy>=2.0->ipython-sql) (4.5.0)\n",
      "Requirement already satisfied: pygments>=2.4.0 in /opt/conda/lib/python3.10/site-packages (from ipython->ipython-sql) (2.14.0)\n",
      "Requirement already satisfied: pexpect>4.3 in /opt/conda/lib/python3.10/site-packages (from ipython->ipython-sql) (4.8.0)\n",
      "Requirement already satisfied: matplotlib-inline in /opt/conda/lib/python3.10/site-packages (from ipython->ipython-sql) (0.1.6)\n",
      "Requirement already satisfied: prompt-toolkit!=3.0.37,<3.1.0,>=3.0.30 in /opt/conda/lib/python3.10/site-packages (from ipython->ipython-sql) (3.0.38)\n",
      "Requirement already satisfied: decorator in /opt/conda/lib/python3.10/site-packages (from ipython->ipython-sql) (5.1.1)\n",
      "Requirement already satisfied: stack-data in /opt/conda/lib/python3.10/site-packages (from ipython->ipython-sql) (0.6.2)\n",
      "Requirement already satisfied: jedi>=0.16 in /opt/conda/lib/python3.10/site-packages (from ipython->ipython-sql) (0.18.2)\n",
      "Requirement already satisfied: traitlets>=5 in /opt/conda/lib/python3.10/site-packages (from ipython->ipython-sql) (5.9.0)\n",
      "Requirement already satisfied: backcall in /opt/conda/lib/python3.10/site-packages (from ipython->ipython-sql) (0.2.0)\n",
      "Requirement already satisfied: pickleshare in /opt/conda/lib/python3.10/site-packages (from ipython->ipython-sql) (0.7.5)\n",
      "Requirement already satisfied: wcwidth in /opt/conda/lib/python3.10/site-packages (from prettytable->ipython-sql) (0.2.6)\n",
      "Requirement already satisfied: parso<0.9.0,>=0.8.0 in /opt/conda/lib/python3.10/site-packages (from jedi>=0.16->ipython->ipython-sql) (0.8.3)\n",
      "Requirement already satisfied: ptyprocess>=0.5 in /opt/conda/lib/python3.10/site-packages (from pexpect>4.3->ipython->ipython-sql) (0.7.0)\n",
      "Requirement already satisfied: pure-eval in /opt/conda/lib/python3.10/site-packages (from stack-data->ipython->ipython-sql) (0.2.2)\n",
      "Requirement already satisfied: executing>=1.2.0 in /opt/conda/lib/python3.10/site-packages (from stack-data->ipython->ipython-sql) (1.2.0)\n",
      "Requirement already satisfied: asttokens>=2.1.0 in /opt/conda/lib/python3.10/site-packages (from stack-data->ipython->ipython-sql) (2.2.1)\n",
      "\u001b[33mWARNING: There was an error checking the latest version of pip.\u001b[0m\u001b[33m\n",
      "\u001b[0m"
     ]
    }
   ],
   "source": [
    "!pip install ipython-sql\n",
    "%load_ext sql\n",
    "CONNECT_DATA = 'postgresql://{}:{}@{}/{}'.format(\n",
    "    os.environ['POSTGRESQL_USER'],\n",
    "    os.environ['POSTGRESQL_PASSWORD'],\n",
    "    POSTGRESQL_HOST,\n",
    "    'demo'\n",
    ")"
   ]
  },
  {
   "cell_type": "code",
   "execution_count": 3,
   "id": "3609e9ac-2ccb-4ad8-af38-cae01e868d45",
   "metadata": {
    "tags": []
   },
   "outputs": [
    {
     "name": "stdout",
     "output_type": "stream",
     "text": [
      "(psycopg2.errors.DuplicateTable) relation \"employees\" already exists\n",
      "\n",
      "[SQL: CREATE TABLE Employees (\n",
      "    EMPLOYEE_ID INT PRIMARY KEY,\n",
      "    FIRST_NAME VARCHAR(50),\n",
      "    LAST_NAME VARCHAR(50),\n",
      "    HIRE_DATE DATE,\n",
      "    JOB_ID VARCHAR(10),\n",
      "    MANAGER_ID INT,\n",
      "    DEPARTMENT_ID INT\n",
      ");]\n",
      "(Background on this error at: https://sqlalche.me/e/20/f405)\n"
     ]
    }
   ],
   "source": [
    "%%sql postgresql:///jovyan\n",
    "CREATE TABLE Employees (\n",
    "    EMPLOYEE_ID INT PRIMARY KEY,\n",
    "    FIRST_NAME VARCHAR(50),\n",
    "    LAST_NAME VARCHAR(50),\n",
    "    HIRE_DATE DATE,\n",
    "    JOB_ID VARCHAR(10),\n",
    "    MANAGER_ID INT,\n",
    "    DEPARTMENT_ID INT\n",
    ");\n",
    "\n",
    "INSERT INTO Employees (EMPLOYEE_ID, FIRST_NAME, LAST_NAME, HIRE_DATE, JOB_ID, MANAGER_ID, DEPARTMENT_ID)\n",
    "VALUES\n",
    "(100, 'Steven', 'King', '1987-06-17', 'AD_PRES', 0, 90),\n",
    "(101, 'Neena', 'Kochhar', '1987-06-18', 'AD_VP', 100, 90),\n",
    "(102, 'Lex', 'DeHaan', '1987-06-19', 'AD_VP', 100, 90),\n",
    "(103, 'Alexander', 'Hunold', '1987-06-20', 'IT_PROG', 102, 60),\n",
    "(107, 'Diana', 'Lorentz', '1987-06-24', 'IT_PROG', 103, 60),\n",
    "(108, 'Nancy', 'Greenberg', '1987-06-25', 'FI_MGR', 101, 100),\n",
    "(109, 'Daniel', 'Faviet', '1987-06-26', 'FI_ACCOUNT', 108, 100),\n",
    "(114, 'Den', 'Raphaely', '1987-07-01', 'PU_MAN', 100, 30),\n",
    "(118, 'Guy', 'Himuro', '1987-07-05', 'PU_CLERK', 114, 30),\n",
    "(144, 'Peter', 'Vargas', '1987-07-31', 'ST_CLERK', 114, 50),\n",
    "(145, 'John', 'Russell', '1987-08-01', 'SA_MAN', 100, 80),\n",
    "(146, 'Karen', 'Partners', '1987-08-02', 'SA_MAN', 100, 80);"
   ]
  },
  {
   "cell_type": "code",
   "execution_count": 23,
   "id": "f87e54bb-9bc4-4229-8906-97fb564c707f",
   "metadata": {
    "tags": []
   },
   "outputs": [
    {
     "name": "stdout",
     "output_type": "stream",
     "text": [
      "(psycopg2.errors.DuplicateTable) relation \"departments\" already exists\n",
      "\n",
      "[SQL: CREATE TABLE Departments (\n",
      "    DEPARTMENT_ID INT PRIMARY KEY,\n",
      "    DEPARTMENT_NAME VARCHAR(50),\n",
      "    MANAGER_ID INT\n",
      ");]\n",
      "(Background on this error at: https://sqlalche.me/e/20/f405)\n"
     ]
    }
   ],
   "source": [
    "%%sql postgresql:///jovyan\n",
    "CREATE TABLE Departments (\n",
    "    DEPARTMENT_ID INT PRIMARY KEY,\n",
    "    DEPARTMENT_NAME VARCHAR(50),\n",
    "    MANAGER_ID INT\n",
    ");\n",
    "\n",
    "INSERT INTO Departments (DEPARTMENT_ID, DEPARTMENT_NAME, MANAGER_ID)\n",
    "VALUES\n",
    "(10, 'Administration', 200),\n",
    "(30, 'Purchasing', 114),\n",
    "(40, 'HumanResources', 203),\n",
    "(50, 'Shipping', 121),\n",
    "(60, 'IT', 103),\n",
    "(70, 'PublicRelations', 204),\n",
    "(80, 'Sales', 145),\n",
    "(90, 'Executive', 100),\n",
    "(100, 'Finance', 108),\n",
    "(110, 'Accounting', 205);"
   ]
  },
  {
   "cell_type": "code",
   "execution_count": 25,
   "id": "358a635f-2fe0-4706-a826-268604798e3f",
   "metadata": {},
   "outputs": [
    {
     "name": "stdout",
     "output_type": "stream",
     "text": [
      "5 rows affected.\n"
     ]
    },
    {
     "data": {
      "text/html": [
       "<table>\n",
       "    <thead>\n",
       "        <tr>\n",
       "            <th>Department Name</th>\n",
       "            <th>Manager Name</th>\n",
       "            <th>Number of Employees</th>\n",
       "        </tr>\n",
       "    </thead>\n",
       "    <tbody>\n",
       "        <tr>\n",
       "            <td>Executive</td>\n",
       "            <td>Steven King</td>\n",
       "            <td>3</td>\n",
       "        </tr>\n",
       "        <tr>\n",
       "            <td>Finance</td>\n",
       "            <td>Nancy Greenberg</td>\n",
       "            <td>2</td>\n",
       "        </tr>\n",
       "        <tr>\n",
       "            <td>IT</td>\n",
       "            <td>Alexander Hunold</td>\n",
       "            <td>2</td>\n",
       "        </tr>\n",
       "        <tr>\n",
       "            <td>Purchasing</td>\n",
       "            <td>Den Raphaely</td>\n",
       "            <td>2</td>\n",
       "        </tr>\n",
       "        <tr>\n",
       "            <td>Sales</td>\n",
       "            <td>John Russell</td>\n",
       "            <td>2</td>\n",
       "        </tr>\n",
       "    </tbody>\n",
       "</table>"
      ],
      "text/plain": [
       "[('Executive', 'Steven King', 3),\n",
       " ('Finance', 'Nancy Greenberg', 2),\n",
       " ('IT', 'Alexander Hunold', 2),\n",
       " ('Purchasing', 'Den Raphaely', 2),\n",
       " ('Sales', 'John Russell', 2)]"
      ]
     },
     "execution_count": 25,
     "metadata": {},
     "output_type": "execute_result"
    }
   ],
   "source": [
    "%%sql postgresql:///jovyan \n",
    "SELECT \n",
    "    d.DEPARTMENT_NAME AS \"Department Name\",\n",
    "    CONCAT(m.FIRST_NAME, ' ', m.LAST_NAME) AS \"Manager Name\",\n",
    "    COUNT(e.EMPLOYEE_ID) AS \"Number of Employees\"\n",
    "FROM \n",
    "    Departments d\n",
    "JOIN \n",
    "    Employees m ON d.MANAGER_ID = m.EMPLOYEE_ID\n",
    "LEFT JOIN \n",
    "    Employees e ON e.DEPARTMENT_ID = d.DEPARTMENT_ID\n",
    "GROUP BY \n",
    "    d.DEPARTMENT_NAME, m.FIRST_NAME, m.LAST_NAME\n",
    "ORDER BY \n",
    "    d.DEPARTMENT_NAME;"
   ]
  },
  {
   "cell_type": "code",
   "execution_count": null,
   "id": "bc849b29-bb72-4cce-862a-814ff1a67999",
   "metadata": {},
   "outputs": [],
   "source": []
  },
  {
   "cell_type": "code",
   "execution_count": null,
   "id": "c6832c51-e12c-447e-a8a4-5c0223e79f9b",
   "metadata": {},
   "outputs": [],
   "source": []
  }
 ],
 "metadata": {
  "kernelspec": {
   "display_name": "Python 3 (ipykernel)",
   "language": "python",
   "name": "python3"
  },
  "language_info": {
   "codemirror_mode": {
    "name": "ipython",
    "version": 3
   },
   "file_extension": ".py",
   "mimetype": "text/x-python",
   "name": "python",
   "nbconvert_exporter": "python",
   "pygments_lexer": "ipython3",
   "version": "3.10.9"
  }
 },
 "nbformat": 4,
 "nbformat_minor": 5
}
