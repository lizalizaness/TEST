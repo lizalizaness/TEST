{
 "cells": [
  {
   "cell_type": "code",
   "execution_count": 1,
   "id": "f69cdec4-5ec8-437d-aee2-feb26e0069a1",
   "metadata": {
    "tags": []
   },
   "outputs": [],
   "source": [
    "def is_power(a, n):\n",
    "    if n <= 1:\n",
    "        return a == 1\n",
    "    if a < 1:\n",
    "        return False\n",
    "    while a % n == 0:\n",
    "        a //= n\n",
    "    return a == 1"
   ]
  },
  {
   "cell_type": "code",
   "execution_count": 2,
   "id": "8a96c8e8-cace-44d7-97c4-3044e75a76ed",
   "metadata": {
    "tags": []
   },
   "outputs": [
    {
     "data": {
      "text/plain": [
       "True"
      ]
     },
     "execution_count": 2,
     "metadata": {},
     "output_type": "execute_result"
    }
   ],
   "source": [
    "is_power(16,2)"
   ]
  },
  {
   "cell_type": "code",
   "execution_count": 3,
   "id": "de0e6716-73d5-4c38-a687-a19a4332bc4c",
   "metadata": {
    "tags": []
   },
   "outputs": [
    {
     "data": {
      "text/plain": [
       "False"
      ]
     },
     "execution_count": 3,
     "metadata": {},
     "output_type": "execute_result"
    }
   ],
   "source": [
    "is_power(12,2)"
   ]
  },
  {
   "cell_type": "code",
   "execution_count": 4,
   "id": "c92203c7-951e-44c3-af41-3ffc3310fc33",
   "metadata": {
    "tags": []
   },
   "outputs": [
    {
     "data": {
      "text/plain": [
       "True"
      ]
     },
     "execution_count": 4,
     "metadata": {},
     "output_type": "execute_result"
    }
   ],
   "source": [
    "is_power(100000,10)"
   ]
  },
  {
   "cell_type": "code",
   "execution_count": 5,
   "id": "2f2e17b8-cab8-4e39-949b-bee8c6b5770a",
   "metadata": {
    "tags": []
   },
   "outputs": [
    {
     "data": {
      "text/plain": [
       "False"
      ]
     },
     "execution_count": 5,
     "metadata": {},
     "output_type": "execute_result"
    }
   ],
   "source": [
    "is_power(990,9)"
   ]
  },
  {
   "cell_type": "code",
   "execution_count": null,
   "id": "eec2d8c7-194b-40ee-8594-86411ba9a9fc",
   "metadata": {},
   "outputs": [],
   "source": [
    "#Time complexity is O(log n) "
   ]
  }
 ],
 "metadata": {
  "kernelspec": {
   "display_name": "Python 3 (ipykernel)",
   "language": "python",
   "name": "python3"
  },
  "language_info": {
   "codemirror_mode": {
    "name": "ipython",
    "version": 3
   },
   "file_extension": ".py",
   "mimetype": "text/x-python",
   "name": "python",
   "nbconvert_exporter": "python",
   "pygments_lexer": "ipython3",
   "version": "3.10.9"
  }
 },
 "nbformat": 4,
 "nbformat_minor": 5
}
